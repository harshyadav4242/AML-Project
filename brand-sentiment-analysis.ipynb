{
 "cells": [
  {
   "cell_type": "code",
   "execution_count": 1,
   "id": "dbc8fa62",
   "metadata": {
    "_cell_guid": "b1076dfc-b9ad-4769-8c92-a6c4dae69d19",
    "_uuid": "8f2839f25d086af736a60e9eeb907d3b93b6e0e5",
    "execution": {
     "iopub.execute_input": "2024-01-08T00:56:08.082416Z",
     "iopub.status.busy": "2024-01-08T00:56:08.081556Z",
     "iopub.status.idle": "2024-01-08T00:56:08.557126Z",
     "shell.execute_reply": "2024-01-08T00:56:08.555855Z"
    },
    "papermill": {
     "duration": 0.484948,
     "end_time": "2024-01-08T00:56:08.559868",
     "exception": false,
     "start_time": "2024-01-08T00:56:08.074920",
     "status": "completed"
    },
    "tags": []
   },
   "outputs": [
    {
     "name": "stdout",
     "output_type": "stream",
     "text": [
      "/kaggle/input/brand-sentiment-analysis-dataset/Dataset - Train.csv\n",
      "/kaggle/input/brand-sentiment-analysis-dataset/Dataset - Test.csv\n",
      "/kaggle/input/brand-sentiment-analysis-dataset/Dataset Card.csv\n"
     ]
    }
   ],
   "source": [
    "# This Python 3 environment comes with many helpful analytics libraries installed\n",
    "# It is defined by the kaggle/python Docker image: https://github.com/kaggle/docker-python\n",
    "# For example, here's several helpful packages to load\n",
    "\n",
    "import numpy as np # linear algebra\n",
    "import pandas as pd # data processing, CSV file I/O (e.g. pd.read_csv)\n",
    "\n",
    "# Input data files are available in the read-only \"../input/\" directory\n",
    "# For example, running this (by clicking run or pressing Shift+Enter) will list all files under the input directory\n",
    "\n",
    "import os\n",
    "for dirname, _, filenames in os.walk('/kaggle/input'):\n",
    "    for filename in filenames:\n",
    "        print(os.path.join(dirname, filename))\n",
    "\n",
    "# You can write up to 20GB to the current directory (/kaggle/working/) that gets preserved as output when you create a version using \"Save & Run All\" \n",
    "# You can also write temporary files to /kaggle/temp/, but they won't be saved outside of the current session"
   ]
  },
  {
   "cell_type": "code",
   "execution_count": 2,
   "id": "f7e36ac6",
   "metadata": {
    "execution": {
     "iopub.execute_input": "2024-01-08T00:56:08.569602Z",
     "iopub.status.busy": "2024-01-08T00:56:08.569036Z",
     "iopub.status.idle": "2024-01-08T00:56:08.642183Z",
     "shell.execute_reply": "2024-01-08T00:56:08.640526Z"
    },
    "papermill": {
     "duration": 0.081162,
     "end_time": "2024-01-08T00:56:08.645008",
     "exception": false,
     "start_time": "2024-01-08T00:56:08.563846",
     "status": "completed"
    },
    "tags": []
   },
   "outputs": [
    {
     "name": "stdout",
     "output_type": "stream",
     "text": [
      "                                          tweet_text  \\\n",
      "0  .@wesley83 I have a 3G iPhone. After 3 hrs twe...   \n",
      "1  @jessedee Know about @fludapp ? Awesome iPad/i...   \n",
      "2  @swonderlin Can not wait for #iPad 2 also. The...   \n",
      "3  @sxsw I hope this year's festival isn't as cra...   \n",
      "4  @sxtxstate great stuff on Fri #SXSW: Marissa M...   \n",
      "\n",
      "  emotion_in_tweet_is_directed_at  \\\n",
      "0                          iPhone   \n",
      "1              iPad or iPhone App   \n",
      "2                            iPad   \n",
      "3              iPad or iPhone App   \n",
      "4                          Google   \n",
      "\n",
      "  is_there_an_emotion_directed_at_a_brand_or_product  \n",
      "0                                   Negative emotion  \n",
      "1                                   Positive emotion  \n",
      "2                                   Positive emotion  \n",
      "3                                   Negative emotion  \n",
      "4                                   Positive emotion  \n"
     ]
    }
   ],
   "source": [
    "kaggle_dataset = 'tusharpaul2001/brand-sentiment-analysis-dataset'\n",
    "\n",
    "# Read the Kaggle dataset into a pandas DataFrame\n",
    "df = pd.read_csv(f'/kaggle/input/brand-sentiment-analysis-dataset/Dataset - Train.csv')\n",
    "\n",
    "# Display the first few rows of the DataFrame\n",
    "print(df.head())"
   ]
  },
  {
   "cell_type": "code",
   "execution_count": 3,
   "id": "2e1ebc74",
   "metadata": {
    "execution": {
     "iopub.execute_input": "2024-01-08T00:56:08.655609Z",
     "iopub.status.busy": "2024-01-08T00:56:08.654882Z",
     "iopub.status.idle": "2024-01-08T00:56:08.695126Z",
     "shell.execute_reply": "2024-01-08T00:56:08.694230Z"
    },
    "papermill": {
     "duration": 0.04906,
     "end_time": "2024-01-08T00:56:08.697997",
     "exception": false,
     "start_time": "2024-01-08T00:56:08.648937",
     "status": "completed"
    },
    "tags": []
   },
   "outputs": [
    {
     "data": {
      "text/html": [
       "<div>\n",
       "<style scoped>\n",
       "    .dataframe tbody tr th:only-of-type {\n",
       "        vertical-align: middle;\n",
       "    }\n",
       "\n",
       "    .dataframe tbody tr th {\n",
       "        vertical-align: top;\n",
       "    }\n",
       "\n",
       "    .dataframe thead th {\n",
       "        text-align: right;\n",
       "    }\n",
       "</style>\n",
       "<table border=\"1\" class=\"dataframe\">\n",
       "  <thead>\n",
       "    <tr style=\"text-align: right;\">\n",
       "      <th></th>\n",
       "      <th>tweet_text</th>\n",
       "      <th>emotion_in_tweet_is_directed_at</th>\n",
       "      <th>is_there_an_emotion_directed_at_a_brand_or_product</th>\n",
       "    </tr>\n",
       "  </thead>\n",
       "  <tbody>\n",
       "    <tr>\n",
       "      <th>count</th>\n",
       "      <td>8588</td>\n",
       "      <td>3291</td>\n",
       "      <td>8589</td>\n",
       "    </tr>\n",
       "    <tr>\n",
       "      <th>unique</th>\n",
       "      <td>8561</td>\n",
       "      <td>9</td>\n",
       "      <td>4</td>\n",
       "    </tr>\n",
       "    <tr>\n",
       "      <th>top</th>\n",
       "      <td>RT @mention Marissa Mayer: Google Will Connect...</td>\n",
       "      <td>iPad</td>\n",
       "      <td>No emotion toward brand or product</td>\n",
       "    </tr>\n",
       "    <tr>\n",
       "      <th>freq</th>\n",
       "      <td>5</td>\n",
       "      <td>946</td>\n",
       "      <td>5389</td>\n",
       "    </tr>\n",
       "  </tbody>\n",
       "</table>\n",
       "</div>"
      ],
      "text/plain": [
       "                                               tweet_text  \\\n",
       "count                                                8588   \n",
       "unique                                               8561   \n",
       "top     RT @mention Marissa Mayer: Google Will Connect...   \n",
       "freq                                                    5   \n",
       "\n",
       "       emotion_in_tweet_is_directed_at  \\\n",
       "count                             3291   \n",
       "unique                               9   \n",
       "top                               iPad   \n",
       "freq                               946   \n",
       "\n",
       "       is_there_an_emotion_directed_at_a_brand_or_product  \n",
       "count                                                8589  \n",
       "unique                                                  4  \n",
       "top                    No emotion toward brand or product  \n",
       "freq                                                 5389  "
      ]
     },
     "execution_count": 3,
     "metadata": {},
     "output_type": "execute_result"
    }
   ],
   "source": [
    "df.describe()"
   ]
  },
  {
   "cell_type": "code",
   "execution_count": 4,
   "id": "f959d58d",
   "metadata": {
    "execution": {
     "iopub.execute_input": "2024-01-08T00:56:08.708272Z",
     "iopub.status.busy": "2024-01-08T00:56:08.707587Z",
     "iopub.status.idle": "2024-01-08T00:56:09.092622Z",
     "shell.execute_reply": "2024-01-08T00:56:09.091407Z"
    },
    "papermill": {
     "duration": 0.393027,
     "end_time": "2024-01-08T00:56:09.095232",
     "exception": false,
     "start_time": "2024-01-08T00:56:08.702205",
     "status": "completed"
    },
    "tags": []
   },
   "outputs": [
    {
     "data": {
      "image/png": "[encoded data removed]",
      "text/plain": [
       "<Figure size 800x600 with 1 Axes>"
      ]
     },
     "metadata": {},
     "output_type": "display_data"
    }
   ],
   "source": [
    "import pandas as pd\n",
    "import matplotlib.pyplot as plt\n",
    "\n",
    "\n",
    "# Count the occurrences of each emotion\n",
    "emotion_counts = df['is_there_an_emotion_directed_at_a_brand_or_product'].value_counts()\n",
    "\n",
    "# Plot a bar chart\n",
    "plt.figure(figsize=(8, 6))\n",
    "emotion_counts.plot(kind='bar', color='skyblue')\n",
    "plt.title('Distribution of Emotions in the Dataset')\n",
    "plt.xlabel('Emotion')\n",
    "plt.ylabel('Count')\n",
    "\n",
    "# Add percentage labels\n",
    "total_tweets = len(df)\n",
    "for i, count in enumerate(emotion_counts):\n",
    "    percentage = (count / total_tweets) * 100\n",
    "    plt.text(i, count + 5, f'{percentage:.2f}%', ha='center', va='bottom')\n",
    "\n",
    "# Show the plot\n",
    "plt.show()"
   ]
  },
  {
   "cell_type": "code",
   "execution_count": 5,
   "id": "4dd7b074",
   "metadata": {
    "execution": {
     "iopub.execute_input": "2024-01-08T00:56:09.107700Z",
     "iopub.status.busy": "2024-01-08T00:56:09.107305Z",
     "iopub.status.idle": "2024-01-08T00:56:09.123832Z",
     "shell.execute_reply": "2024-01-08T00:56:09.122187Z"
    },
    "papermill": {
     "duration": 0.02623,
     "end_time": "2024-01-08T00:56:09.126725",
     "exception": false,
     "start_time": "2024-01-08T00:56:09.100495",
     "status": "completed"
    },
    "tags": []
   },
   "outputs": [
    {
     "name": "stdout",
     "output_type": "stream",
     "text": [
      "                                               Tweet\n",
      "0  Hand-Held ���Hobo�۪: Drafthouse launches ���Ho...\n",
      "1  Again? RT @mention Line at the Apple store is ...\n",
      "2  Boooo! RT @mention Flipboard is developing an ...\n",
      "3  Thanks to @mention for publishing the news of ...\n",
      "4  ���@mention &quot;Apple has opened a pop-up st...\n"
     ]
    }
   ],
   "source": [
    "kaggle_dataset = 'tusharpaul2001/brand-sentiment-analysis-dataset'\n",
    "\n",
    "# Read the Kaggle dataset into a pandas DataFrame\n",
    "df = pd.read_csv(f'/kaggle/input/brand-sentiment-analysis-dataset/Dataset - Test.csv')\n",
    "\n",
    "# Display the first few rows of the DataFrame\n",
    "print(df.head())"
   ]
  },
  {
   "cell_type": "code",
   "execution_count": null,
   "id": "1d8dab82",
   "metadata": {
    "papermill": {
     "duration": 0.00479,
     "end_time": "2024-01-08T00:56:09.136229",
     "exception": false,
     "start_time": "2024-01-08T00:56:09.131439",
     "status": "completed"
    },
    "tags": []
   },
   "outputs": [],
   "source": []
  }
 ],
 "metadata": {
  "kaggle": {
   "accelerator": "none",
   "dataSources": [
    {
     "datasetId": 4274196,
     "sourceId": 7358691,
     "sourceType": "datasetVersion"
    }
   ],
   "dockerImageVersionId": 30626,
   "isGpuEnabled": false,
   "isInternetEnabled": true,
   "language": "python",
   "sourceType": "notebook"
  },
  "kernelspec": {
   "display_name": "Python 3",
   "language": "python",
   "name": "python3"
  },
  "language_info": {
   "codemirror_mode": {
    "name": "ipython",
    "version": 3
   },
   "file_extension": ".py",
   "mimetype": "text/x-python",
   "name": "python",
   "nbconvert_exporter": "python",
   "pygments_lexer": "ipython3",
   "version": "3.10.12"
  },
  "papermill": {
   "default_parameters": {},
   "duration": 5.485409,
   "end_time": "2024-01-08T00:56:09.763004",
   "environment_variables": {},
   "exception": null,
   "input_path": "__notebook__.ipynb",
   "output_path": "__notebook__.ipynb",
   "parameters": {},
   "start_time": "2024-01-08T00:56:04.277595",
   "version": "2.4.0"
  }
 },
 "nbformat": 4,
 "nbformat_minor": 5
}
